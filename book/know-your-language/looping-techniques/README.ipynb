{
 "cells": [
  {
   "cell_type": "markdown",
   "metadata": {},
   "source": [
    "# How to Loop: Looping Techniques"
   ]
  },
  {
   "cell_type": "markdown",
   "metadata": {},
   "source": [
    "## Lists and Sequences"
   ]
  },
  {
   "cell_type": "markdown",
   "metadata": {},
   "source": [
    "### Looping through a sequence"
   ]
  },
  {
   "cell_type": "code",
   "execution_count": 24,
   "metadata": {},
   "outputs": [
    {
     "name": "stdout",
     "output_type": "stream",
     "text": [
      "This\n",
      "class\n",
      "is\n",
      "awesome\n"
     ]
    }
   ],
   "source": [
    "for item in ['This', 'class', 'is', 'awesome']:\n",
    "    print(item)"
   ]
  },
  {
   "cell_type": "markdown",
   "metadata": {},
   "source": [
    "### Loop through a sequence using `enumerate()`"
   ]
  },
  {
   "cell_type": "code",
   "execution_count": 2,
   "metadata": {},
   "outputs": [
    {
     "data": {
      "text/plain": [
       "<enumerate at 0x2ce369e9ac0>"
      ]
     },
     "execution_count": 2,
     "metadata": {},
     "output_type": "execute_result"
    }
   ],
   "source": [
    "enumerate(['This', 'class', 'is', 'awesome'])"
   ]
  },
  {
   "cell_type": "code",
   "execution_count": 3,
   "metadata": {},
   "outputs": [
    {
     "data": {
      "text/plain": [
       "[(0, 'This'), (1, 'class'), (2, 'is'), (3, 'awesome')]"
      ]
     },
     "execution_count": 3,
     "metadata": {},
     "output_type": "execute_result"
    }
   ],
   "source": [
    "list(enumerate(['This', 'class', 'is', 'awesome']))"
   ]
  },
  {
   "cell_type": "code",
   "execution_count": 9,
   "metadata": {},
   "outputs": [
    {
     "data": {
      "text/plain": [
       "[(1, 'This'), (2, 'class'), (3, 'is'), (4, 'awesome')]"
      ]
     },
     "execution_count": 9,
     "metadata": {},
     "output_type": "execute_result"
    }
   ],
   "source": [
    "list(enumerate(['This', 'class', 'is', 'awesome'], start=1))"
   ]
  },
  {
   "cell_type": "code",
   "execution_count": 10,
   "metadata": {},
   "outputs": [
    {
     "name": "stdout",
     "output_type": "stream",
     "text": [
      "0 This\n",
      "1 class\n",
      "2 is\n",
      "3 awesome\n"
     ]
    }
   ],
   "source": [
    "for iterator, value in enumerate(['This', 'class', 'is', 'awesome']):\n",
    "    print(iterator, value)"
   ]
  },
  {
   "cell_type": "markdown",
   "metadata": {},
   "source": [
    "### Loop through a sequence in reverse using `reversed()`"
   ]
  },
  {
   "cell_type": "code",
   "execution_count": 17,
   "metadata": {},
   "outputs": [
    {
     "name": "stdout",
     "output_type": "stream",
     "text": [
      "awesome\n",
      "is\n",
      "class\n",
      "This\n"
     ]
    }
   ],
   "source": [
    "for item in reversed(['This', 'class', 'is', 'awesome']):\n",
    "    print(item)"
   ]
  },
  {
   "cell_type": "markdown",
   "metadata": {},
   "source": [
    "### Looping through multiple sequences using `zip()`"
   ]
  },
  {
   "cell_type": "code",
   "execution_count": 1,
   "metadata": {},
   "outputs": [
    {
     "name": "stdout",
     "output_type": "stream",
     "text": [
      "What is your sex?\n",
      "I am Male\n",
      "\n",
      "What is your name?\n",
      "I am Pau\n",
      "\n",
      "What is your shape?\n",
      "I am Orange in shape\n",
      "\n"
     ]
    }
   ],
   "source": [
    "questions = ['sex', 'name', 'shape', 'hello']\n",
    "answers = ['Male', 'Pau', 'Orange in shape']\n",
    "\n",
    "for question, answer in zip(questions, answers):\n",
    "    print('What is your ' + str(question) + '?')\n",
    "    print('I am ' + str(answer))\n",
    "    print()"
   ]
  },
  {
   "cell_type": "code",
   "execution_count": 4,
   "metadata": {},
   "outputs": [
    {
     "data": {
      "text/plain": [
       "{'sex': 'Male', 'name': 'Pau', 'shape': 'Orange in shape'}"
      ]
     },
     "execution_count": 4,
     "metadata": {},
     "output_type": "execute_result"
    }
   ],
   "source": [
    "dict(zip(questions, answers))"
   ]
  },
  {
   "cell_type": "markdown",
   "metadata": {},
   "source": [
    "## Dictionaries"
   ]
  },
  {
   "cell_type": "markdown",
   "metadata": {},
   "source": [
    "### Looping though dictionary using `items()`"
   ]
  },
  {
   "cell_type": "code",
   "execution_count": 18,
   "metadata": {},
   "outputs": [
    {
     "name": "stdout",
     "output_type": "stream",
     "text": [
      "Ram Kasula 9840298755\n",
      "Anu Pau 98651201503\n",
      "Kade Hade 9863331239\n"
     ]
    }
   ],
   "source": [
    "contact = {\n",
    "    'Ram Kasula': 9840298755,\n",
    "    'Anu Pau': 98651201503,\n",
    "    'Kade Hade': 9863331239\n",
    "}\n",
    "\n",
    "for name, number in contact.items():\n",
    "    print(name, number)"
   ]
  },
  {
   "cell_type": "markdown",
   "metadata": {},
   "source": [
    "## Looping though dictionary using `iteritems()`\n",
    "This is depreciated in Python 3"
   ]
  },
  {
   "cell_type": "markdown",
   "metadata": {},
   "source": [
    "### Exercise\n",
    "* Print below pattern using nested loop:\n",
    "    ```\n",
    "    * \n",
    "    * * \n",
    "    * * * \n",
    "    * * * * \n",
    "    * * * * * \n",
    "    ```\n",
    "* Print below pattern:\n",
    "    ```\n",
    "    1\n",
    "    22\n",
    "    333\n",
    "    4444\n",
    "    55555\n",
    "    666666\n",
    "    7777777\n",
    "    88888888\n",
    "    999999999\n",
    "    ```\n",
    "* Print below pattern using nested loop:\n",
    "    ```\n",
    "    * \n",
    "    * * \n",
    "    * * * \n",
    "    * * * * \n",
    "    * * * * * \n",
    "    * * * * \n",
    "    * * * \n",
    "    * * \n",
    "    *\n",
    "    ```\n",
    "* Print below pattern using loop:\n",
    "    ```\n",
    "     *                                                                      \n",
    "     *                                                                      \n",
    "     *                                                                      \n",
    "     *                                                                      \n",
    "     *                                                                      \n",
    "     *                                                                      \n",
    "     *****\n",
    "    ```\n",
    "* Calculate the individual expense by an individual, total expense and payable amount for each member from below data structures using loop:\n",
    "\n",
    "    ```python\n",
    "    expenses = {\n",
    "        'Eliza': {\n",
    "            'Dahi': 280,\n",
    "            'PaniPuri': 120,\n",
    "            'Bara': 160,\n",
    "            'Kulfi': 200,\n",
    "            'Pau': 50,\n",
    "        },\n",
    "        'Binay': {\n",
    "            'Water': 30,\n",
    "        },\n",
    "        'Kshitiz': {\n",
    "            'Chocolate': 90,\n",
    "        },\n",
    "        'Sajal': {\n",
    "            'Coffee':500,\n",
    "        },\n",
    "    }\n",
    "    ```\n",
    "* Create a dictionary of cubes upto number 10 using loop.\n",
    "* Convert the above expenses dictionary keys to list using loop"
   ]
  },
  {
   "cell_type": "code",
   "execution_count": 3,
   "metadata": {},
   "outputs": [
    {
     "name": "stdout",
     "output_type": "stream",
     "text": [
      "* \n",
      "* * \n",
      "* * * \n",
      "* * * * \n",
      "* * * * * \n"
     ]
    }
   ],
   "source": [
    "'''\n",
    "Print below pattern using nested loop:\n",
    "\n",
    "  * \n",
    "  * * \n",
    "  * * * \n",
    "  * * * * \n",
    "  * * * * *\n",
    "'''\n",
    "for num in range(1,6):\n",
    "    print('* ' * num)"
   ]
  },
  {
   "cell_type": "code",
   "execution_count": 7,
   "metadata": {},
   "outputs": [
    {
     "name": "stdout",
     "output_type": "stream",
     "text": [
      "1\n",
      "22\n",
      "333\n",
      "4444\n",
      "55555\n",
      "666666\n",
      "7777777\n",
      "88888888\n",
      "999999999\n"
     ]
    }
   ],
   "source": [
    "'''\n",
    "Print below pattern:\n",
    "\n",
    "  1\n",
    "  22\n",
    "  333\n",
    "  4444\n",
    "  55555\n",
    "  666666\n",
    "  7777777\n",
    "  88888888\n",
    "  999999999\n",
    "'''\n",
    "for num in range(1,10):\n",
    "    print(str(num) * num)"
   ]
  },
  {
   "cell_type": "code",
   "execution_count": 4,
   "metadata": {},
   "outputs": [
    {
     "name": "stdout",
     "output_type": "stream",
     "text": [
      "* \n",
      "* * \n",
      "* * * \n",
      "* * * * \n",
      "* * * * * \n",
      "* * * * \n",
      "* * * \n",
      "* * \n",
      "* \n"
     ]
    }
   ],
   "source": [
    "'''\n",
    "Print below pattern using nested loop:\n",
    "\n",
    "  * \n",
    "  * * \n",
    "  * * * \n",
    "  * * * * \n",
    "  * * * * * \n",
    "  * * * * \n",
    "  * * * \n",
    "  * * \n",
    "  *\n",
    "'''\n",
    "maxStar = 5\n",
    "for i in range(1, maxStar + 1):\n",
    "    print('* ' * i)\n",
    "for i in range(maxStar - 1, 0, -1):\n",
    "    print('* ' * i)\n"
   ]
  },
  {
   "cell_type": "code",
   "execution_count": 12,
   "metadata": {},
   "outputs": [
    {
     "name": "stdout",
     "output_type": "stream",
     "text": [
      "*\n",
      "*\n",
      "*\n",
      "*\n",
      "*\n",
      "*\n",
      "*****\n"
     ]
    }
   ],
   "source": [
    "'''\n",
    "Print below pattern using loop:\n",
    "\n",
    "   *                                                                      \n",
    "   *                                                                      \n",
    "   *                                                                      \n",
    "   *                                                                      \n",
    "   *                                                                      \n",
    "   *                                                                      \n",
    "   *****\n",
    "'''\n",
    "for i in range(1,8):\n",
    "    if (i == max(range(1,8))):\n",
    "        print('*' * 5)\n",
    "    else:\n",
    "        print('*')"
   ]
  },
  {
   "cell_type": "code",
   "execution_count": 13,
   "metadata": {},
   "outputs": [
    {
     "name": "stdout",
     "output_type": "stream",
     "text": [
      "Individual expense : {'Eliza': 810, 'Binay': 30, 'Kshitiz': 90, 'Sajal': 500}\n",
      "Total expense :1430\n",
      "Payable Amount : \n",
      "Eliza->452.5\n",
      "Binay->-327.5\n",
      "Kshitiz->-267.5\n",
      "Sajal->142.5\n"
     ]
    }
   ],
   "source": [
    "'''\n",
    "Calculate the individual expense by an individual, total expense and payable amount for each member from below data structures using loop:\n",
    "\n",
    "  expenses = {\n",
    "      'Eliza': {\n",
    "          'Dahi': 280,\n",
    "          'PaniPuri': 120,\n",
    "          'Bara': 160,\n",
    "          'Kulfi': 200,\n",
    "          'Pau': 50,\n",
    "      },\n",
    "      'Binay': {\n",
    "          'Water': 30,\n",
    "      },\n",
    "      'Kshitiz': {\n",
    "          'Chocolate': 90,\n",
    "      },\n",
    "      'Sajal': {\n",
    "          'Coffee':500,\n",
    "      },\n",
    "  }\n",
    "'''\n",
    "expenses = {\n",
    "  'Eliza': {\n",
    "      'Dahi': 280,\n",
    "      'PaniPuri': 120,\n",
    "      'Bara': 160,\n",
    "      'Kulfi': 200,\n",
    "      'Pau': 50,\n",
    "  },\n",
    "  'Binay': {\n",
    "      'Water': 30,\n",
    "  },\n",
    "  'Kshitiz': {\n",
    "      'Chocolate': 90,\n",
    "  },\n",
    "  'Sajal': {\n",
    "      'Coffee':500,\n",
    "  },\n",
    "}\n",
    "\n",
    "total_expense = 0\n",
    "indvExpense = {}\n",
    "\n",
    "for item in expenses:\n",
    "    indvExpense[item] = sum(expenses[item].values())\n",
    "print('Individual expense : ' + str(indvExpense))\n",
    "print('Total expense :' + str(sum(indvExpense.values())))\n",
    "payableAmount = sum(indvExpense.values())/len(indvExpense)\n",
    "print('Payable Amount : ')\n",
    "\n",
    "for item in indvExpense:\n",
    "    print(item + '->' + str(indvExpense[item]-payableAmount))"
   ]
  },
  {
   "cell_type": "code",
   "execution_count": 14,
   "metadata": {},
   "outputs": [
    {
     "name": "stdout",
     "output_type": "stream",
     "text": [
      "{1: 1, 2: 8, 3: 27, 4: 64, 5: 125, 6: 216, 7: 343, 8: 512, 9: 729, 10: 1000}\n"
     ]
    }
   ],
   "source": [
    "#Create a dictionary of cubes upto number 10 using loop.\n",
    "dictCubes = {}\n",
    "for i in range(1,11):\n",
    "    dictCubes[i]=i**3\n",
    "print(dictCubes)"
   ]
  },
  {
   "cell_type": "code",
   "execution_count": 15,
   "metadata": {},
   "outputs": [
    {
     "name": "stdout",
     "output_type": "stream",
     "text": [
      "['Eliza', 'Binay', 'Kshitiz', 'Sajal']\n"
     ]
    }
   ],
   "source": [
    "#Convert the above expenses dictionary keys to list using loop\n",
    "listKeys = []\n",
    "for item in expenses:\n",
    "    listKeys.append(item)\n",
    "print(listKeys)"
   ]
  },
  {
   "cell_type": "code",
   "execution_count": null,
   "metadata": {},
   "outputs": [],
   "source": []
  }
 ],
 "metadata": {
  "kernelspec": {
   "display_name": "Python 3",
   "language": "python",
   "name": "python3"
  },
  "language_info": {
   "codemirror_mode": {
    "name": "ipython",
    "version": 3
   },
   "file_extension": ".py",
   "mimetype": "text/x-python",
   "name": "python",
   "nbconvert_exporter": "python",
   "pygments_lexer": "ipython3",
   "version": "3.6.8"
  }
 },
 "nbformat": 4,
 "nbformat_minor": 2
}
