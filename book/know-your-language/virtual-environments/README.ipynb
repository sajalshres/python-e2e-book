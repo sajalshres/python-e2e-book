{
 "cells": [
  {
   "cell_type": "markdown",
   "metadata": {},
   "source": [
    "# Virtual Environments\n",
    "\n",
    "## Problem:\n",
    "* It may not be possible for one Python installation to meet the requirements of every application. \n",
    "* If application A needs version 1.0 of a particular module but application B needs version 2.0, then the requirements are in conflict and installing either version 1.0 or 2.0 will leave one application unable to run.\n",
    "\n",
    "## Solution:\n",
    "* The solution for this problem is to create a virtual environment\n",
    "* Virtual environments are self-contained directory tree that contains a Python installation for a particular version of Python, plus a number of additional packages."
   ]
  },
  {
   "cell_type": "markdown",
   "metadata": {},
   "source": [
    "## But which virtual environments?\n",
    "* `virtualenv` is a very popular tool that creates isolated Python environments for Python libraries. If you're not familiar with this tool, I highly recommend learning it, as it is a very useful tool, and I'll be making comparisons to it for the rest of this answer.\n",
    "    * It works by installing a bunch of files in a directory (eg: env/), and then modifying the PATH environment variable to prefix it with a custom bin directory (eg: env/bin/). An exact copy of the python or python3 binary is placed in this directory, but Python is programmed to look for libraries relative to its path first, in the environment directory. It's not part of Python's standard library, but is officially blessed by the PyPA (Python Packaging Authority). Once activated, you can install packages in the virtual environment using pip.\n",
    "\n",
    "* `pyenv` is used to isolate Python versions. For example, you may want to test your code against Python 2.6, 2.7, 3.3, 3.4 and 3.5, so you'll need a way to switch between them. Once activated, it prefixes the PATH environment variable with ~/.pyenv/shims, where there are special files matching the Python commands (python, pip). These are not copies of the Python-shipped commands; they are special scripts that decide on the fly which version of Python to run based on the PYENV_VERSION environment variable, or the .python-version file, or the ~/.pyenv/version file. pyenv also makes the process of downloading and installing multiple Python versions easier, using the command pyenv install.\n",
    "\n",
    "* `pyenv-virtualenv` is a plugin for pyenv by the same author as pyenv, to allow you to use pyenv and virtualenv at the same time conveniently. However, if you're using Python 3.3 or later, pyenv-virtualenv will try to run python -m venv if it is available, instead of virtualenv. You can use virtualenv and pyenv together without pyenv-virtualenv, if you don't want the convenience features.\n",
    "\n",
    "* `virtualenvwrapper` is a set of extensions to virtualenv (see docs). It gives you commands like mkvirtualenv, lssitepackages, and especially workon for switching between different virtualenv directories. This tool is especially useful if you want multiple virtualenv directories.\n",
    "\n",
    "* `pyenv-virtualenvwrapper` is a plugin for pyenv by the same author as pyenv, to conveniently integrate virtualenvwrapper into pyenv.\n",
    "\n",
    "* `pipenv`, by Kenneth Reitz (the author of requests), is the newest project in this list. It aims to combine Pipfile, pip and virtualenv into one command on the command-line. The virtualenv directory typically gets placed in ~/.local/share/virtualenvs/XXX, with XXX being a hash of the path of the project directory. This is different from virtualenv, where the directory is typically in the current working directory.\n",
    "\n",
    "The Python Packaging Guide recommends pipenv when developing Python applications (as opposed to libraries). There does not seem to be any plans to support venv instead of virtualenv (#15). Confusingly, its command-line option --venv refers to the virtualenv directory, not venv, and similarly, the environment variable PIPENV_VENV_IN_PROJECT affects the location of the virtualenv directory, not venv directory (#1919).\n",
    "\n",
    "## Standard library:\n",
    "* `pyvenv` is a script shipped with Python 3 but deprecated in Python 3.6 as it had problems (not to mention the confusing name). In Python 3.6+, the exact equivalent is python3 -m venv.\n",
    "\n",
    "* `venv` is a package shipped with Python 3, which you can run using python3 -m venv (although for some reason some distros separate it out into a separate distro package, such as python3-venv on Ubuntu/Debian). It serves a similar purpose to virtualenv, and works in a very similar way, but it doesn't need to copy Python binaries around (except on Windows). Use this if you don't need to support Python 2. At the time of writing, the Python community seems to be happy with virtualenv and I haven't heard much talk of venv.\n",
    "\n",
    "**Note**: Most of these tools complement each other. For instance, `pipenv` integrates `pip`, `virtualenv` and even `pyenv` if desired. The only tools that are true alternatives to each other here are `venv` and `virtualenv`.\n",
    "\n",
    "### Recommendation for beginners:\n",
    "This is my personal recommendation for beginners: start by learning virtualenv and pip, tools which work with both Python 2 and 3 and in a variety of situations, and pick up the other tools once you start needing them."
   ]
  },
  {
   "cell_type": "markdown",
   "metadata": {},
   "source": [
    "## Virtualenv\n",
    "virtualenv is a tool to create isolated Python environments. virtualenv creates a folder which contains all the necessary executables to use the packages that a Python project would need."
   ]
  },
  {
   "cell_type": "markdown",
   "metadata": {},
   "source": [
    "### Install `virtualenv`"
   ]
  },
  {
   "cell_type": "markdown",
   "metadata": {},
   "source": [
    "### Use case for project\n",
    "\n",
    "```bash\n",
    "$ cd project_folder\n",
    "$ virtualenv venv\n",
    "```\n",
    "\n",
    "`virtualenv venv` will create a folder in the current directory which will contain the Python executable files, and a copy of the `pip` library which you can use to install other packages. \n",
    "\n",
    "The name of the virtual environment (in this case, it was `venv`) can be anything; omitting the name will place the files in the current directory instead.\n",
    "\n",
    "**Note**: `venv` is the general convention used globally.\n",
    "\n",
    "### Use interpreter of your choice\n",
    "\n",
    "```bash\n",
    "$ virtualenv -p /usr/bin/python3.6 venv\n",
    "```\n",
    "or change the interpreter globally with an env variable in `~/.bashrc`:\n",
    "\n",
    "```bash\n",
    "export VIRTUALENVWRAPPER_PYTHON=/usr/bin/python2.7\n",
    "```\n",
    "\n",
    "### Activate virtual environmet\n",
    "\n",
    "```bash\n",
    "$ source venv/bin/activate\n",
    "```\n",
    "\n",
    "**or**\n",
    "\n",
    "```bash\n",
    "$ . venv/bin/activate\n",
    "```\n",
    "\n",
    "The name of the current virtual environment will now appear on the left of the prompt:\n",
    "\n",
    "```bash\n",
    "(venv) root@i10106:/usr/local/repositories/platform# \n",
    "```\n",
    "\n",
    "### Install package as Usual:\n",
    "\n",
    "```bash\n",
    "(venv) root@i10106:/usr/local/repositories/platform# pip install request\n",
    "```\n",
    "\n",
    "### Deactivate virutal environment\n",
    "\n",
    "```bash\n",
    "(venv) root@i10106:/usr/local/repositories/platform# deactivate\n",
    "```\n",
    "\n",
    "### Delete virtual environmetn:\n",
    "Just delete the folder:\n",
    "```bash\n",
    "root@i10106:/usr/local/repositories/platform# rm -rf venv\n",
    "```"
   ]
  },
  {
   "cell_type": "code",
   "execution_count": null,
   "metadata": {},
   "outputs": [],
   "source": []
  }
 ],
 "metadata": {
  "kernelspec": {
   "display_name": "Python 3",
   "language": "python",
   "name": "python3"
  },
  "language_info": {
   "codemirror_mode": {
    "name": "ipython",
    "version": 3
   },
   "file_extension": ".py",
   "mimetype": "text/x-python",
   "name": "python",
   "nbconvert_exporter": "python",
   "pygments_lexer": "ipython3",
   "version": "3.8.1"
  }
 },
 "nbformat": 4,
 "nbformat_minor": 2
}
