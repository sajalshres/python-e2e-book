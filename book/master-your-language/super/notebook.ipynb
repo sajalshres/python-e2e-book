{
 "metadata": {
  "language_info": {
   "codemirror_mode": {
    "name": "ipython",
    "version": 3
   },
   "file_extension": ".py",
   "mimetype": "text/x-python",
   "name": "python",
   "nbconvert_exporter": "python",
   "pygments_lexer": "ipython3",
   "version": "3.8.1-final"
  },
  "orig_nbformat": 2,
  "kernelspec": {
   "name": "python3",
   "display_name": "Python 3"
  }
 },
 "nbformat": 4,
 "nbformat_minor": 2,
 "cells": [
  {
   "source": [
    "# `super()`\n",
    "\n",
    "- In inheritance, the subclass (or a child class) inherits from the superclass (or a parent class).\n",
    "- The special method `super()` allows us to refer to the superclass implicitly.\n",
    "- Lets have a look how `super()` works by looking at the code:\n",
    "\n",
    "**Note:** Calling `super()` alone returns a temporary object of the superclass"
   ],
   "cell_type": "markdown",
   "metadata": {}
  },
  {
   "cell_type": "code",
   "execution_count": 4,
   "metadata": {},
   "outputs": [
    {
     "output_type": "stream",
     "name": "stdout",
     "text": [
      "Person: Jimmy Anderson, 25, Male\nStudent(101): Rachel Smith, 28, Female\n"
     ]
    }
   ],
   "source": [
    "class Person:\n",
    "    def __init__(self, name, age, sex):\n",
    "        self.name = name\n",
    "        self.age = age\n",
    "        self.sex = sex\n",
    "    \n",
    "    def __str__(self):\n",
    "        return f\"Person: {self.name}, {self.age}, {self.sex}\"\n",
    "\n",
    "class Student(Person):\n",
    "    def __init__(self, name, age, sex, id):\n",
    "        # Same as calling: Person.__init__(self, name, age, sex)\n",
    "        super().__init__(name, age, sex)\n",
    "        self.id = id\n",
    "    \n",
    "    def __str__(self):\n",
    "        return f\"Student({self.id}): {self.name}, {self.age}, {self.sex}\"\n",
    "\n",
    "\n",
    "person = Person(name=\"Jimmy Anderson\", age=\"25\", sex=\"Male\")\n",
    "print(person)\n",
    "student = Student(name=\"Rachel Smith\", age=\"28\", sex=\"Female\", id=101)\n",
    "print(student)"
   ]
  },
  {
   "source": [
    "## `super()` in-depth\n",
    "\n",
    "- `super()` also takes two parameters:\n",
    "    - subclass\n",
    "    - object of subclass (usually `self`)\n",
    "- In above example, calling `super(Person, self).__init__(name, age, sex)` is same as `super().__init__(name, age, sex)`.\n",
    "- Sometimes, usually in multiple inheritance, it is helpful to call method from superclass at different lelel instead of immediate superclass."
   ],
   "cell_type": "markdown",
   "metadata": {}
  },
  {
   "cell_type": "code",
   "execution_count": 6,
   "metadata": {},
   "outputs": [
    {
     "output_type": "stream",
     "name": "stdout",
     "text": [
      "Hello, World Again!\n"
     ]
    }
   ],
   "source": [
    "class A:\n",
    "    def __init__(self):\n",
    "        self.message = \"Hello, World!\"\n",
    "    \n",
    "    def welcome(self):\n",
    "        print(self.message)\n",
    "\n",
    "class B(A):\n",
    "    def __init__(self, name):\n",
    "        self.name = name\n",
    "\n",
    "    def welcome(self):\n",
    "        print(self.name, self.message)\n",
    "\n",
    "class C(B):\n",
    "    def __init__(self):\n",
    "        self.message = \"Hello, World Again!\"\n",
    "    \n",
    "    def welcome(self):\n",
    "        super(B, self).welcome()\n",
    "\n",
    "c = C()\n",
    "c.welcome()"
   ]
  },
  {
   "source": [
    "- In the above example, By providing argument subclass as `B` to `super()` method, we are causing it to search `welcome()` method just one level above class `B`, in our case, class `A`\n",
    "\n",
    "**Note:** `super()` without any parameters is sufficient in most of the scenarios."
   ],
   "cell_type": "markdown",
   "metadata": {}
  },
  {
   "source": [
    "## Method Resolution Order (MRO)\n",
    "\n",
    "- Like most object-oriented programming language, Python also supports a form of multiple inheritance as seen above in example.\n",
    "\n",
    "```Python\n",
    "\n",
    "class SubClass(SuperClass1, SuperClass2, SuperClass3):\n",
    "    <statement-1>\n",
    "    ...\n",
    "    ...\n",
    "    ...\n",
    "    <statement-N>\n",
    "```\n",
    "\n",
    "- In its simplest form, the search of attributes and methods are carried out as depth-first, left to right, not searching twice in the same class where there is an overlap in the hierarchy.\n",
    "- In above syntax, if an attribute is not found in `SubClass`, it is then searched in `SuperClass1`, and then in `SuperClass2` and search goes on recursively. (**MRO**)\n",
    "- **MRO** tells the Python interpreter to search for the inherited attributes.\n",
    "- The search process, in fact, is slightly complex than described above. The **MRO** changes dynamically to support cooperative calls to `super()`.\n",
    "- Dynamic resolution is important in cases of complex inheritance when there are one or more diamond relationships. In such cases, superclass can be accessed through multiple ways from baseclass.\n",
    "- In order to make baseclass being accessed more than once, the dynamic algorithm (**MRO**) linearizes the search order in a way that preserves the left to right ordering, calling superclass only once.\n",
    "\n",
    "**Note:** Every class has `__mro__` attribute as well as `mro()` method to inspect the order.\n",
    "\n",
    "More on **MRO**: [https://www.python.org/download/releases/2.3/mro/](https://www.python.org/download/releases/2.3/mro/)\n",
    "\n",
    "Lets have a look at a code below:\n",
    "\n",
    "![class-inheritance](./class-inheritance.jpg)\n"
   ],
   "cell_type": "markdown",
   "metadata": {}
  },
  {
   "cell_type": "code",
   "execution_count": 33,
   "metadata": {},
   "outputs": [
    {
     "output_type": "stream",
     "name": "stdout",
     "text": [
      "(<class '__main__.D'>, <class '__main__.B'>, <class '__main__.C'>, <class '__main__.A'>, <class 'object'>)\n[<class '__main__.D'>, <class '__main__.B'>, <class '__main__.C'>, <class '__main__.A'>, <class 'object'>]\n"
     ]
    }
   ],
   "source": [
    "class A:\n",
    "    def __init__(self, message):\n",
    "        self.message = message\n",
    "    \n",
    "    def greet(self):\n",
    "        print(self.message)\n",
    "\n",
    "class B(A):\n",
    "    def __init__(self, message):\n",
    "        super().__init__(message=message)\n",
    "    \n",
    "    def greet(self, name):\n",
    "        print(f\"{name}, {self.message}\")\n",
    "\n",
    "class C(A):\n",
    "    def __init__(self, message):\n",
    "        super().__init__(message=message)\n",
    "    \n",
    "    def greet(self, name, id):\n",
    "        print(f\"{name}({id}), {self.message}\")\n",
    "\n",
    "class D(B, C):\n",
    "    def __init__(self, message):\n",
    "        super().__init__(message=message)\n",
    "\n",
    "print(D.__mro__)\n",
    "print(D.mro())"
   ]
  },
  {
   "source": [
    "- Another example, demonstrating **MRO**\n",
    "\n",
    "![class-inheritance-pyramid](./class-inheritance-pyramid.jpg)"
   ],
   "cell_type": "markdown",
   "metadata": {}
  },
  {
   "cell_type": "code",
   "execution_count": 31,
   "metadata": {},
   "outputs": [
    {
     "output_type": "stream",
     "name": "stdout",
     "text": [
      "(<class '__main__.RightPyramid'>, <class '__main__.Square'>, <class '__main__.Rectangle'>, <class '__main__.Triangle'>, <class 'object'>)\n20.0\n"
     ]
    }
   ],
   "source": [
    "class Rectangle:\n",
    "    def __init__(self, length, width):\n",
    "        self.length = length\n",
    "        self.width = width\n",
    "\n",
    "    def area(self):\n",
    "        return self.length * self.width\n",
    "\n",
    "    def perimeter(self):\n",
    "        return 2 * self.length + 2 * self.width\n",
    "\n",
    "class Square(Rectangle):\n",
    "    def __init__(self, length):\n",
    "        super(Square, self).__init__(length, length)\n",
    "\n",
    "class Cube(Square):\n",
    "    def surface_area(self):\n",
    "        face_area = super(Square, self).area()\n",
    "        return face_area * 6\n",
    "\n",
    "    def volume(self):\n",
    "        face_area = super(Square, self).area()\n",
    "        return face_area * self.length\n",
    "\n",
    "class Triangle:\n",
    "    def __init__(self, base, height):\n",
    "        self.base = base\n",
    "        self.height = height\n",
    "\n",
    "    def area(self):\n",
    "        return 0.5 * self.base * self.height\n",
    "\n",
    "class RightPyramid(Square, Triangle):\n",
    "    def __init__(self, base, slant_height):\n",
    "        self.base = base\n",
    "        self.slant_height = slant_height\n",
    "        super().__init__(self.base)\n",
    "\n",
    "    def area(self):\n",
    "        base_area = super().area()\n",
    "        perimeter = super().perimeter()\n",
    "        return 0.5 * perimeter * self.slant_height + base_area\n",
    "\n",
    "print(RightPyramid.__mro__)\n",
    "\n",
    "pyramid = RightPyramid(2, 4)\n",
    "print(pyramid.area())"
   ]
  },
  {
   "source": [
    "When desigining inheritance, you should consider some of the best practices, like:\n",
    "\n",
    "- Identify interfaces: Interfaces define methods only but not the implementation and should be overridden. (Sometimes called Abstract Base Class: **ABC**)\n",
    "- Identify mixins: Mixins bundle together related implementations to be used in child.\n",
    "- Inherit from one concrete superclass, and several interfaces or mixins\n",
    "- Frequently used classes can be joined together\n",
    "- Use composition over multiple inheritance, when possible: Finding a way of using a class as an attribute instead of inherting it."
   ],
   "cell_type": "markdown",
   "metadata": {}
  }
 ]
}