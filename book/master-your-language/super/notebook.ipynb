{
 "metadata": {
  "language_info": {
   "codemirror_mode": {
    "name": "ipython",
    "version": 3
   },
   "file_extension": ".py",
   "mimetype": "text/x-python",
   "name": "python",
   "nbconvert_exporter": "python",
   "pygments_lexer": "ipython3",
   "version": "3.8.1-final"
  },
  "orig_nbformat": 2,
  "kernelspec": {
   "name": "python3",
   "display_name": "Python 3"
  }
 },
 "nbformat": 4,
 "nbformat_minor": 2,
 "cells": [
  {
   "source": [
    "# `super()`\n",
    "\n",
    "- In inheritance, the subclass (or a child class) inherits from the superclass (or a parent class).\n",
    "- The special method `super()` allows us to refer to the superclass implicitly.\n",
    "- Lets have a look how `super()` works by looking at the code:\n",
    "\n",
    "**Note:** Calling `super()` alone returns a temporary object of the superclass"
   ],
   "cell_type": "markdown",
   "metadata": {}
  },
  {
   "cell_type": "code",
   "execution_count": 12,
   "metadata": {},
   "outputs": [
    {
     "output_type": "stream",
     "name": "stdout",
     "text": [
      "Person: Jimmy Anderson, 25, Male\nStudent(101): Rachel Smith, 28, Female\n"
     ]
    }
   ],
   "source": [
    "class Person:\n",
    "    def __init__(self, name, age, sex):\n",
    "        self.name = name\n",
    "        self.age = age\n",
    "        self.sex = sex\n",
    "    \n",
    "    def __str__(self):\n",
    "        return f\"Person: {self.name}, {self.age}, {self.sex}\"\n",
    "\n",
    "class Student(Person):\n",
    "    def __init__(self, name, age, sex, id):\n",
    "        # Same as calling: Person.__init__(self, name, age, sex)\n",
    "        super().__init__(name, age, sex)\n",
    "        self.id = id\n",
    "    \n",
    "    def __str__(self):\n",
    "        return f\"Student({self.id}): {self.name}, {self.age}, {self.sex}\"\n",
    "\n",
    "\n",
    "person = Person(name=\"Jimmy Anderson\", age=\"25\", sex=\"Male\")\n",
    "print(person)\n",
    "student = Student(name=\"Rachel Smith\", age=\"28\", sex=\"Female\", id=101)\n",
    "print(student)"
   ]
  },
  {
   "source": [
    "## `super()` in-depth\n",
    "\n",
    "- `super()` also takes two parameters:\n",
    "    - subclass\n",
    "    - object of subclass (usually `self`)\n",
    "- In above example, calling `super(Person, self).__init__(name, age, sex)` is same as `super().__init__(name, age, sex)`.\n",
    "- Also, `super()` without any parameters is sufficient ins most of the scenarios.\n",
    "- Sometimes, usually in multiple inheritance, it is helpful to call method from different superclass instead of immediate."
   ],
   "cell_type": "markdown",
   "metadata": {}
  },
  {
   "cell_type": "code",
   "execution_count": 22,
   "metadata": {},
   "outputs": [
    {
     "output_type": "stream",
     "name": "stdout",
     "text": [
      "Hello, World Again!\n"
     ]
    }
   ],
   "source": [
    "class A:\n",
    "    def __init__(self):\n",
    "        self.message = \"Hello, World!\"\n",
    "    \n",
    "    def welcome(self):\n",
    "        print(self.message)\n",
    "\n",
    "class B(A):\n",
    "    def __init__(self, name):\n",
    "        self.name = name\n",
    "\n",
    "    def welcome(self):\n",
    "        print(self.name, self.message)\n",
    "\n",
    "class C(B):\n",
    "    def __init__(self):\n",
    "        self.message = \"Hello, World Again!\"\n",
    "    \n",
    "    def welcome(self):\n",
    "        super(B, self).welcome()\n",
    "\n",
    "c = C()\n",
    "c.welcome()"
   ]
  },
  {
   "source": [
    "- In the above example, By providing argument subclass as `B` to `super()` method, we are causing it to search `welcome()` method just one level above class `B`, in our case, class `A`"
   ],
   "cell_type": "markdown",
   "metadata": {}
  },
  {
   "cell_type": "code",
   "execution_count": null,
   "metadata": {},
   "outputs": [],
   "source": []
  }
 ]
}