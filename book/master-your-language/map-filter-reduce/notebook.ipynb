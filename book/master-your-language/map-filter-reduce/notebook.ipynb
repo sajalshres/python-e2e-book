{
 "metadata": {
  "language_info": {
   "codemirror_mode": {
    "name": "ipython",
    "version": 3
   },
   "file_extension": ".py",
   "mimetype": "text/x-python",
   "name": "python",
   "nbconvert_exporter": "python",
   "pygments_lexer": "ipython3",
   "version": "3.8.1-final"
  },
  "orig_nbformat": 2,
  "kernelspec": {
   "name": "python3",
   "display_name": "Python 3"
  }
 },
 "nbformat": 4,
 "nbformat_minor": 2,
 "cells": [
  {
   "source": [
    "# Map, Filter and Reduce\n",
    "\n",
    "- enables functional programming in Python\n",
    "- `map` and `filter` are built-ins (`__builtins__`).\n",
    "- `reduce` needs to be imported from `functools` module"
   ],
   "cell_type": "markdown",
   "metadata": {}
  },
  {
   "source": [
    "## map()\n",
    "\n",
    "- Syntax:\n",
    "\n",
    "    `map(function, iterable, ...)`\n",
    "\n",
    "- In simple terms, above syntax can also be written as:\n",
    "\n",
    "    `map(function_to_apply, input_list)`\n",
    "\n",
    "- Here, `function` (or `function_to_apply`) is a function on which each element in `iterables` (`list`, `set`, ...) are applied.\n",
    "- Lets have a look at the code below:\n",
    "\n",
    "**Note:** Checkout [lambda](https://sajalshres.github.io/python-e2e-book/know-your-language/functions/notebook.html#lambda-expressions) from previous sections."
   ],
   "cell_type": "markdown",
   "metadata": {}
  },
  {
   "cell_type": "code",
   "execution_count": 9,
   "metadata": {},
   "outputs": [
    {
     "output_type": "stream",
     "name": "stdout",
     "text": [
      "Loop: [1, 4, 9, 16, 25]\nmap and lambda function: [1, 4, 9, 16, 25]\nmap and function: [1, 4, 9, 16, 25]\n"
     ]
    }
   ],
   "source": [
    "# List of squared numbers using loop\n",
    "numbers = [1, 2, 3, 4, 5]\n",
    "squared_numbers = []\n",
    "\n",
    "for number in numbers:\n",
    "    squared_numbers.append(number ** 2)\n",
    "\n",
    "print(\"Loop:\",squared_numbers)\n",
    "\n",
    "# List of squared numbers using map and lambda function\n",
    "numbers = [1, 2, 3, 4, 5]\n",
    "squared_numbers = list(map(lambda number: number**2, numbers))\n",
    "\n",
    "print(\"map and lambda function:\",squared_numbers)\n",
    "\n",
    "# List of squared numbers using map and function\n",
    "def square(number):\n",
    "    return number**2\n",
    "\n",
    "numbers = [1, 2, 3, 4, 5]\n",
    "squared_numbers = list(map(square, numbers))\n",
    "\n",
    "print(\"map and function:\", squared_numbers)"
   ]
  },
  {
   "source": [
    "More examples: "
   ],
   "cell_type": "markdown",
   "metadata": {}
  },
  {
   "cell_type": "code",
   "execution_count": 18,
   "metadata": {},
   "outputs": [
    {
     "output_type": "stream",
     "name": "stdout",
     "text": [
      "{0: True, 1: False, 2: True, 3: False, 4: True, 5: False, 6: True, 7: False, 8: True, 9: False}\n"
     ]
    }
   ],
   "source": [
    "# detect even odd numbers:\n",
    "numbers = list(range(0, 10))\n",
    "\n",
    "is_even_odd = list(map(lambda number: True if number % 2 == 0 else False, numbers))\n",
    "\n",
    "print(dict(zip(numbers, is_even_odd)))"
   ]
  },
  {
   "source": [
    "## filter()"
   ],
   "cell_type": "markdown",
   "metadata": {}
  },
  {
   "source": [
    "## reduce()"
   ],
   "cell_type": "markdown",
   "metadata": {}
  },
  {
   "cell_type": "code",
   "execution_count": null,
   "metadata": {},
   "outputs": [],
   "source": []
  }
 ]
}