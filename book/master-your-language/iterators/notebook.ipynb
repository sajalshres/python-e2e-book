{
 "metadata": {
  "language_info": {
   "codemirror_mode": {
    "name": "ipython",
    "version": 3
   },
   "file_extension": ".py",
   "mimetype": "text/x-python",
   "name": "python",
   "nbconvert_exporter": "python",
   "pygments_lexer": "ipython3",
   "version": "3.8.5-final"
  },
  "orig_nbformat": 2,
  "kernelspec": {
   "name": "python3",
   "display_name": "Python 3"
  }
 },
 "nbformat": 4,
 "nbformat_minor": 2,
 "cells": [
  {
   "source": [
    "# Iterators\n",
    "\n",
    "- Compared to many other programming languages, Python's syntax is very clear and simple. For intance, for..in loop:"
   ],
   "cell_type": "markdown",
   "metadata": {}
  },
  {
   "cell_type": "code",
   "execution_count": 1,
   "metadata": {},
   "outputs": [
    {
     "output_type": "stream",
     "name": "stdout",
     "text": [
      "1\n2\n3\n4\n5\n"
     ]
    }
   ],
   "source": [
    "numbers = [1, 2, 3, 4, 5]\n",
    "for number in numbers:\n",
    "    print(number)"
   ]
  },
  {
   "source": [
    "- But how does the above loop in the above code fetches the individual elements from the given object and loop for.\n",
    "- How to use this construct in our own objects?"
   ],
   "cell_type": "markdown",
   "metadata": {}
  },
  {
   "source": [
    "## Iterator Protocol\n",
    "\n",
    "- To create our oun iterator object, we'll need to implement two dunder methods in the iterator class:\n",
    "\n",
    "    - `__iter__`: should return iterator object. Used in `for` and `in` keywords\n",
    "    - `__next__`: returns next value or `StopIteration` error once all the objects has been looped."
   ],
   "cell_type": "markdown",
   "metadata": {}
  }
 ]
}