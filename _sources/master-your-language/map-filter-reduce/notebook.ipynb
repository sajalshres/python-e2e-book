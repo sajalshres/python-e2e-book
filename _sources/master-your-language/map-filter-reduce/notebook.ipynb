{
 "metadata": {
  "language_info": {
   "codemirror_mode": {
    "name": "ipython",
    "version": 3
   },
   "file_extension": ".py",
   "mimetype": "text/x-python",
   "name": "python",
   "nbconvert_exporter": "python",
   "pygments_lexer": "ipython3",
   "version": "3.8.1-final"
  },
  "orig_nbformat": 2,
  "kernelspec": {
   "name": "python3",
   "display_name": "Python 3"
  }
 },
 "nbformat": 4,
 "nbformat_minor": 2,
 "cells": [
  {
   "source": [
    "# Map, Filter and Reduce\n",
    "\n",
    "- enables functional programming in Python\n",
    "- `map` and `filter` are built-ins (`__builtins__`).\n",
    "- `reduce` needs to be imported from `functools` module"
   ],
   "cell_type": "markdown",
   "metadata": {}
  },
  {
   "source": [
    "## map()\n",
    "\n",
    "- Syntax:\n",
    "\n",
    "    `map(function, iterable, ...)`\n",
    "\n",
    "- In simple terms, above syntax can also be written as:\n",
    "\n",
    "    `map(function_to_apply, input_list)`\n",
    "\n",
    "- Here, `function` (or `function_to_apply`) is a function on which each element in `iterables` (`list`, `set`, ...) are applied.\n",
    "- Lets have a look at the code below:\n",
    "\n",
    "**Note:** Checkout [lambda](https://sajalshres.github.io/python-e2e-book/know-your-language/functions/notebook.html#lambda-expressions) from previous sections."
   ],
   "cell_type": "markdown",
   "metadata": {}
  },
  {
   "cell_type": "code",
   "execution_count": 9,
   "metadata": {},
   "outputs": [
    {
     "output_type": "stream",
     "name": "stdout",
     "text": [
      "Loop: [1, 4, 9, 16, 25]\nmap and lambda function: [1, 4, 9, 16, 25]\nmap and function: [1, 4, 9, 16, 25]\n"
     ]
    }
   ],
   "source": [
    "# List of squared numbers using loop\n",
    "numbers = [1, 2, 3, 4, 5]\n",
    "squared_numbers = []\n",
    "\n",
    "for number in numbers:\n",
    "    squared_numbers.append(number ** 2)\n",
    "\n",
    "print(\"Loop:\",squared_numbers)\n",
    "\n",
    "# List of squared numbers using map and lambda function\n",
    "numbers = [1, 2, 3, 4, 5]\n",
    "squared_numbers = list(map(lambda number: number**2, numbers))\n",
    "\n",
    "print(\"map and lambda function:\",squared_numbers)\n",
    "\n",
    "# List of squared numbers using map and function\n",
    "def square(number):\n",
    "    return number**2\n",
    "\n",
    "numbers = [1, 2, 3, 4, 5]\n",
    "squared_numbers = list(map(square, numbers))\n",
    "\n",
    "print(\"map and function:\", squared_numbers)"
   ]
  },
  {
   "source": [
    "More examples: "
   ],
   "cell_type": "markdown",
   "metadata": {}
  },
  {
   "cell_type": "code",
   "execution_count": 18,
   "metadata": {},
   "outputs": [
    {
     "output_type": "stream",
     "name": "stdout",
     "text": [
      "{0: True, 1: False, 2: True, 3: False, 4: True, 5: False, 6: True, 7: False, 8: True, 9: False}\n"
     ]
    }
   ],
   "source": [
    "# detect even odd numbers:\n",
    "numbers = list(range(0, 10))\n",
    "\n",
    "is_even_odd = list(map(lambda number: True if number % 2 == 0 else False, numbers))\n",
    "\n",
    "print(dict(zip(numbers, is_even_odd)))"
   ]
  },
  {
   "source": [
    "## filter()\n",
    "\n",
    "- Syntax:\n",
    "\n",
    "    `filter(function, iterable)`\n",
    "\n",
    "- Compared to `map()`, ony one iterable is required.\n",
    "- `filter()` returns a list of elements for which the applied `function` returns `True`.\n",
    "- Lets have a look at the code below:\n",
    "\n",
    "**Note:** Checkout [lambda](https://sajalshres.github.io/python-e2e-book/know-your-language/functions/notebook.html#lambda-expressions) from previous sections."
   ],
   "cell_type": "markdown",
   "metadata": {}
  },
  {
   "cell_type": "code",
   "execution_count": 19,
   "metadata": {},
   "outputs": [
    {
     "output_type": "stream",
     "name": "stdout",
     "text": [
      "[0, 2, 4, 6, 8]\n"
     ]
    }
   ],
   "source": [
    "# filter even numbers:\n",
    "numbers = list(range(0, 10))\n",
    "\n",
    "even_numbers = list(filter(lambda number: number % 2 == 0, numbers))\n",
    "\n",
    "print(even_numbers)\n"
   ]
  },
  {
   "cell_type": "code",
   "execution_count": 23,
   "metadata": {},
   "outputs": [
    {
     "output_type": "stream",
     "name": "stdout",
     "text": [
      "Grade A: [90, 88, 85, 76, 77]\nGrade B: [68, 66, 68]\n"
     ]
    }
   ],
   "source": [
    "# calculate grade\n",
    "scores = [50, 90, 68, 88, 85, 76, 77, 66, 68]\n",
    "\n",
    "scores_over_75 = list(filter(lambda score: score > 75, scores))\n",
    "\n",
    "print(\"Grade A:\",scores_over_75)\n",
    "\n",
    "scores_over_60 = list(filter(lambda score: score > 60 and score < 75, scores))\n",
    "\n",
    "print(\"Grade B:\",scores_over_60)\n"
   ]
  },
  {
   "cell_type": "code",
   "execution_count": 29,
   "metadata": {},
   "outputs": [
    {
     "output_type": "stream",
     "name": "stdout",
     "text": [
      "Pallindrome words are:  ['anna', 'radar', 'level']\n"
     ]
    }
   ],
   "source": [
    "# find pallindrome words from a list of words\n",
    "words = [\"anna\", \"complete\", \"rank\", \"radar\", \"progress\", \"level\"]\n",
    "\n",
    "pallindrome_words = list(filter(lambda word: word == word[::-1], words))\n",
    "\n",
    "print(\"Pallindrome words are: \",pallindrome_words)"
   ]
  },
  {
   "source": [
    "## `reduce()`\n",
    "\n",
    "- Returns a single value unlike `map()` and `filter()`\n",
    "- Can be imported from `functools` module\n",
    "- Syntax:\n",
    "\n",
    "    `reduce(function, iterable[, initializer])`\n",
    "\n",
    "- In above syntax, First parameter `function` is the function on which each element in the `iterable` gets cumulatively applied to.\n",
    "- `initializer` is the optional value, when present, is placed before the items of the iterable.\n",
    "- Lets have a look at the code below:\n",
    "\n",
    "**Note:** Checkout [lambda](https://sajalshres.github.io/python-e2e-book/know-your-language/functions/notebook.html#lambda-expressions) from previous sections."
   ],
   "cell_type": "markdown",
   "metadata": {}
  },
  {
   "cell_type": "code",
   "execution_count": 9,
   "metadata": {},
   "outputs": [
    {
     "output_type": "stream",
     "name": "stdout",
     "text": [
      "Sum using loop: 45\n"
     ]
    }
   ],
   "source": [
    "# Sum of numbers using look\n",
    "sum = 0\n",
    "numbers = list(range(1, 10))\n",
    "for number in numbers:\n",
    "    sum = sum + number\n",
    "\n",
    "print(\"Sum using loop:\", sum)"
   ]
  },
  {
   "cell_type": "code",
   "execution_count": 8,
   "metadata": {},
   "outputs": [
    {
     "output_type": "stream",
     "name": "stdout",
     "text": [
      "Sum using reduce: 45\n"
     ]
    }
   ],
   "source": [
    "from functools import reduce\n",
    "\n",
    "# Sum of numbers using reduce\n",
    "numbers = list(range(1, 10))\n",
    "sum = reduce(lambda num1, num2: num1 + num2, numbers)\n",
    "\n",
    "print(\"Sum using reduce:\", sum)"
   ]
  },
  {
   "cell_type": "code",
   "execution_count": 12,
   "metadata": {},
   "outputs": [
    {
     "output_type": "stream",
     "name": "stdout",
     "text": [
      "Sum using reduce and initial value: 55\n"
     ]
    }
   ],
   "source": [
    "from functools import reduce\n",
    "\n",
    "# Sum of numbers using reduce with optional initial value\n",
    "numbers = list(range(1, 10))\n",
    "sum = reduce(lambda num1, num2: num1 + num2, numbers, 10)\n",
    "\n",
    "print(\"Sum using reduce and initial value:\", sum)"
   ]
  },
  {
   "cell_type": "code",
   "execution_count": 13,
   "metadata": {},
   "outputs": [
    {
     "output_type": "stream",
     "name": "stdout",
     "text": [
      "Sum using reduce and initial value: 10\n"
     ]
    }
   ],
   "source": [
    "from functools import reduce\n",
    "\n",
    "# Sum of numbers using reduce with optional initial value\n",
    "numbers = []\n",
    "sum = reduce(lambda num1, num2: num1 + num2, numbers, 10)\n",
    "\n",
    "print(\"Sum using reduce and initial value:\", sum)"
   ]
  },
  {
   "source": [
    "In the above example, the initializer `10` serves as a default when the iterable `numbers` is empty. So the result becomes 10."
   ],
   "cell_type": "markdown",
   "metadata": {}
  },
  {
   "cell_type": "code",
   "execution_count": null,
   "metadata": {},
   "outputs": [],
   "source": []
  }
 ]
}