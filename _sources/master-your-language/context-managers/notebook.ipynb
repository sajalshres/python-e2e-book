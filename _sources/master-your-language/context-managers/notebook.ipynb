{
 "metadata": {
  "language_info": {
   "codemirror_mode": {
    "name": "ipython",
    "version": 3
   },
   "file_extension": ".py",
   "mimetype": "text/x-python",
   "name": "python",
   "nbconvert_exporter": "python",
   "pygments_lexer": "ipython3",
   "version": "3.8.5-final"
  },
  "orig_nbformat": 2,
  "kernelspec": {
   "name": "python3",
   "display_name": "Python 3",
   "language": "python"
  }
 },
 "nbformat": 4,
 "nbformat_minor": 2,
 "cells": [
  {
   "source": [
    "# Context Manager Protocol\n",
    "\n",
    "- Allows for some common resource management by making the code more expressive and avoid resource leaks.\n",
    "- Ensures that a used resource (file, database etc.) is cleaned up whenever a code that uses it is done, even if exceptions are thrown.\n",
    "- Provides a syntactic sugar for `try/finally` blocks."
   ],
   "cell_type": "markdown",
   "metadata": {}
  },
  {
   "source": [
    "Consider below scenario, where you need to access a file, do some operation and close them."
   ],
   "cell_type": "markdown",
   "metadata": {}
  },
  {
   "cell_type": "code",
   "execution_count": 2,
   "metadata": {},
   "outputs": [
    {
     "output_type": "stream",
     "name": "stdout",
     "text": [
      "Context Manager Example\n"
     ]
    }
   ],
   "source": [
    "file = open('hello.txt', 'r')\n",
    "try:\n",
    "    print(file.readline())\n",
    "finally:\n",
    "    file.close()"
   ]
  },
  {
   "source": [
    "The above code can be re-written using `with` statement:"
   ],
   "cell_type": "markdown",
   "metadata": {}
  },
  {
   "cell_type": "code",
   "execution_count": 3,
   "metadata": {},
   "outputs": [
    {
     "output_type": "stream",
     "name": "stdout",
     "text": [
      "Context Manager Example\n"
     ]
    }
   ],
   "source": [
    "with open('hello.txt', 'r') as file:\n",
    "    print(file.readline())"
   ]
  },
  {
   "source": [
    "As we can see, this implementation is less verbose and does the same thing as the code above it:\n",
    "\n",
    "- Open the file\n",
    "- Do some operation\n",
    "- Close it (In case of any error, it tries to close it.)"
   ],
   "cell_type": "markdown",
   "metadata": {}
  },
  {
   "source": [
    "## Implementing your own `Context Manager` using a Class\n",
    "\n",
    "- At bare minimum, we need to implement two [dunder] methods: `__enter__` and `__exit__`.\n",
    "- Lets implement our own file `Context Manger` as above:"
   ],
   "cell_type": "markdown",
   "metadata": {}
  },
  {
   "cell_type": "code",
   "execution_count": 7,
   "metadata": {},
   "outputs": [],
   "source": [
    "class FileManager:\n",
    "    def __init__(self, file, mode):\n",
    "        self._file = open(file, mode)\n",
    "    \n",
    "    def __enter__(self):\n",
    "        return self._file\n",
    "    \n",
    "    def __exit__(self, type, value, traceback):\n",
    "        self._file.close()"
   ]
  },
  {
   "source": [
    "Now we can use `with` statement as below:"
   ],
   "cell_type": "markdown",
   "metadata": {}
  },
  {
   "cell_type": "code",
   "execution_count": 8,
   "metadata": {},
   "outputs": [
    {
     "output_type": "stream",
     "name": "stdout",
     "text": [
      "Context Manager Example\n"
     ]
    }
   ],
   "source": [
    "with FileManager(file=\"hello.txt\", mode=\"r\") as file:\n",
    "    print(file.readline())"
   ]
  },
  {
   "source": [
    "- The interpreter calls the `__enter__` method when execution enters the context of `with` statement.\n",
    "- Similarly `__exit__` method is called when execution leaves the context again.\n",
    "- The `__exit__` method accepts three arguments:\n",
    "    - `type`\n",
    "    - `value`\n",
    "    - `traceback`\n",
    "- They are the required parameters as part of the `Context Manager` protocol.\n",
    "- In case of exception, The interpreter (`Python`) will pass the `type`, `value`, and the `traceback` of the exception to the `__exit__` method.\n",
    "\n",
    "Note: The interpreter will store `__exit__` method in advance, so that it can call it while leaving the context.\n"
   ],
   "cell_type": "markdown",
   "metadata": {}
  },
  {
   "cell_type": "code",
   "execution_count": 9,
   "metadata": {},
   "outputs": [
    {
     "output_type": "error",
     "ename": "AttributeError",
     "evalue": "'_io.TextIOWrapper' object has no attribute 'exception_should_occur'",
     "traceback": [
      "\u001b[0;31m---------------------------------------------------------------------------\u001b[0m",
      "\u001b[0;31mAttributeError\u001b[0m                            Traceback (most recent call last)",
      "\u001b[0;32m<ipython-input-9-b261b03a5a0c>\u001b[0m in \u001b[0;36m<module>\u001b[0;34m\u001b[0m\n\u001b[1;32m      1\u001b[0m \u001b[0;32mwith\u001b[0m \u001b[0mFileManager\u001b[0m\u001b[0;34m(\u001b[0m\u001b[0mfile\u001b[0m\u001b[0;34m=\u001b[0m\u001b[0;34m\"hello.txt\"\u001b[0m\u001b[0;34m,\u001b[0m \u001b[0mmode\u001b[0m\u001b[0;34m=\u001b[0m\u001b[0;34m\"r\"\u001b[0m\u001b[0;34m)\u001b[0m \u001b[0;32mas\u001b[0m \u001b[0mfile\u001b[0m\u001b[0;34m:\u001b[0m\u001b[0;34m\u001b[0m\u001b[0;34m\u001b[0m\u001b[0m\n\u001b[0;32m----> 2\u001b[0;31m     \u001b[0mfile\u001b[0m\u001b[0;34m.\u001b[0m\u001b[0mexception_should_occur\u001b[0m\u001b[0;34m(\u001b[0m\u001b[0;34m)\u001b[0m\u001b[0;34m\u001b[0m\u001b[0;34m\u001b[0m\u001b[0m\n\u001b[0m",
      "\u001b[0;31mAttributeError\u001b[0m: '_io.TextIOWrapper' object has no attribute 'exception_should_occur'"
     ]
    }
   ],
   "source": [
    "with FileManager(file=\"hello.txt\", mode=\"r\") as file:\n",
    "    file.exception_should_occur()"
   ]
  },
  {
   "source": [
    "Let's handle the exception in `__exit__` method:"
   ],
   "cell_type": "markdown",
   "metadata": {}
  },
  {
   "cell_type": "code",
   "execution_count": 33,
   "metadata": {},
   "outputs": [],
   "source": [
    "class FileManager:\n",
    "    def __init__(self, file, mode):\n",
    "        self._file = open(file, mode)\n",
    "    \n",
    "    def __enter__(self):\n",
    "        return self._file\n",
    "    \n",
    "    def __exit__(self, type, value, traceback):\n",
    "        print(\n",
    "            \"Exception handled:\"\n",
    "            f\"\\n\\ttype: {type}, \"\n",
    "            f\"\\n\\tvalue: {value}, \"\n",
    "            f\"\\n\\ttraceback: {traceback}\"\n",
    "        )\n",
    "        self._file.close()\n",
    "        return True"
   ]
  },
  {
   "cell_type": "code",
   "execution_count": 34,
   "metadata": {},
   "outputs": [
    {
     "output_type": "stream",
     "name": "stdout",
     "text": [
      "Exception handled:\n\ttype: <class 'AttributeError'>, \n\tvalue: '_io.TextIOWrapper' object has no attribute 'exception_should_occur', \n\ttraceback: <traceback object at 0x7f6df5ec7d00>\n"
     ]
    }
   ],
   "source": [
    "with FileManager(file=\"hello.txt\", mode=\"r\") as file:\n",
    "    file.exception_should_occur()"
   ]
  },
  {
   "source": [
    "## Implementing your own `Context Manager` using a `generators`\n",
    "\n",
    "- Python provides `contextlib` module to implement context managers using `decorators` and `generators`\n",
    "- Consider, below example:"
   ],
   "cell_type": "markdown",
   "metadata": {}
  },
  {
   "source": [
    "from contextlib import contextmanager\n",
    "\n",
    "@contextmanager\n",
    "def file_manager(name, mode=\"r\"):\n",
    "    file = open(name, mode)\n",
    "    try: \n",
    "        yield file\n",
    "    finally:\n",
    "        file.close()"
   ],
   "cell_type": "code",
   "metadata": {},
   "execution_count": 36,
   "outputs": []
  },
  {
   "source": [
    "`contextmanager` in action:"
   ],
   "cell_type": "markdown",
   "metadata": {}
  },
  {
   "cell_type": "code",
   "execution_count": 37,
   "metadata": {},
   "outputs": [
    {
     "output_type": "stream",
     "name": "stdout",
     "text": [
      "Context Manager Example\n"
     ]
    }
   ],
   "source": [
    "with file_manager('hello.txt') as file:\n",
    "    print(file.readline())"
   ]
  },
  {
   "source": [
    "- The above implmentation looks very simple as compared to our class bases solution.\n",
    "- We are using `contextmanager` decorator to define a generator function that automatically supports `with` statement\n",
    "- In our example:\n",
    "    - `file_manager()` function first acquires the file resource\n",
    "    - It then temporarily suspends the execution and `yield`s the file resource so it can be used.\n",
    "    - When the execution leaves the `with` context, the generator continues to execute the remaining part of the code which usually contains the clean-up steps.\n",
    "- This approach requires some knowledge of `decorator` and `generator` concepts as opposed to class based implementation."
   ],
   "cell_type": "markdown",
   "metadata": {}
  },
  {
   "source": [
    "## Some more examples:"
   ],
   "cell_type": "markdown",
   "metadata": {}
  },
  {
   "cell_type": "code",
   "execution_count": 47,
   "metadata": {},
   "outputs": [
    {
     "output_type": "stream",
     "name": "stdout",
     "text": [
      "(1, 'Sajal Shrestha', 'Male', 'Kathmandu, Nepal')\n(2, 'Prashant Paudel', 'Male', 'Banepa, Nepal')\n(3, 'Atul Shrestha', 'Male', 'Okhaldhunga, Nepal')\n(4, 'Resa Manandhar', 'Female', 'Kathmandu, Nepal')\n"
     ]
    }
   ],
   "source": [
    "# using class\n",
    "import sqlite3\n",
    "\n",
    "class SqliteDatabase:\n",
    "    def __init__(self, database):\n",
    "        self._database = database\n",
    "        self._connection = sqlite3.connect(self._database)\n",
    "\n",
    "    def __enter__(self):\n",
    "        return self._connection\n",
    "    \n",
    "    def __exit__(self, type, value, traceback):\n",
    "        self._connection.close()\n",
    "\n",
    "def get_contacts():\n",
    "    with SqliteDatabase('contacts.db') as connection:\n",
    "        cursor = connection.cursor()\n",
    "        for row in cursor.execute(\"SELECT * from contact\"):\n",
    "            yield row\n",
    "\n",
    "\n",
    "for contact in get_contacts():\n",
    "    print(contact)"
   ]
  },
  {
   "source": [
    "# using contextmanager\n",
    "from contextlib import contextmanager\n",
    "import sqlite3\n",
    "\n",
    "@contextmanager\n",
    "def sqlite_manager(database):\n",
    "    connection = sqlite3.connect(database)\n",
    "    try:\n",
    "        yield connection\n",
    "    finally:\n",
    "        connection.close()\n",
    "\n",
    "def get_contacts():\n",
    "    with SqliteDatabase('contacts.db') as connection:\n",
    "        cursor = connection.cursor()\n",
    "        for row in cursor.execute(\"SELECT * from contact\"):\n",
    "            yield row\n",
    "\n",
    "for contact in get_contacts():\n",
    "    print(contact)"
   ],
   "cell_type": "code",
   "metadata": {},
   "execution_count": 50,
   "outputs": [
    {
     "output_type": "stream",
     "name": "stdout",
     "text": [
      "(1, 'Sajal Shrestha', 'Male', 'Kathmandu, Nepal')\n(2, 'Prashant Paudel', 'Male', 'Banepa, Nepal')\n(3, 'Atul Shrestha', 'Male', 'Okhaldhunga, Nepal')\n(4, 'Resa Manandhar', 'Female', 'Kathmandu, Nepal')\n"
     ]
    }
   ]
  }
 ]
}